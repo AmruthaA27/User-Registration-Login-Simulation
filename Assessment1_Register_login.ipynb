{
  "nbformat": 4,
  "nbformat_minor": 0,
  "metadata": {
    "colab": {
      "name": "Assessment1_Register/login",
      "provenance": [],
      "authorship_tag": "ABX9TyPJ0+7aGb+x6OVbW1KXupUI",
      "include_colab_link": true
    },
    "kernelspec": {
      "name": "python3",
      "display_name": "Python 3"
    },
    "language_info": {
      "name": "python"
    }
  },
  "cells": [
    {
      "cell_type": "markdown",
      "metadata": {
        "id": "view-in-github",
        "colab_type": "text"
      },
      "source": [
        "<a href=\"https://colab.research.google.com/github/AmruthaA27/User-Registration-Login-Simulation/blob/main/Assessment1_Register_login.ipynb\" target=\"_parent\"><img src=\"https://colab.research.google.com/assets/colab-badge.svg\" alt=\"Open In Colab\"/></a>"
      ]
    },
    {
      "cell_type": "code",
      "execution_count": 35,
      "metadata": {
        "colab": {
          "base_uri": "https://localhost:8080/"
        },
        "id": "OC34yjqaO19O",
        "outputId": "3b42385d-c9fc-47aa-aac0-201cf0f8b8f1"
      },
      "outputs": [
        {
          "output_type": "stream",
          "name": "stdout",
          "text": [
            "Enter your username:prakash@hot.com\n",
            "Enter your password:sjfdk\n",
            "Enter Register/Login/Forgot Password:Forgot Password\n",
            "password retrieval in process\n",
            "password retrieved: Siri#31\n"
          ]
        }
      ],
      "source": [
        "def Resgistration(userName,password):\n",
        "  #testing username format\n",
        "  special_characters = \"!@#$%^&*()-+?_=,<>/\"\n",
        "  if \"@\" and \".\" in userName:\n",
        "    m = userName.index(\"@\")\n",
        "    n = userName.index(\".\")\n",
        "  if \"@\" and \".\" not in userName:\n",
        "    print(\"invalid username: characters @ or . is required\")\n",
        "  elif userName[0] == \"@\":\n",
        "    print(\"invalid username: username cannot start with @\")\n",
        "  elif m-n == 1 or m-n == -1:\n",
        "    print(\"invlaid username: character @ and . cannot occur together\")\n",
        "  elif (userName[0].isdigit()) or (userName[0] in special_characters):\n",
        "    print(\"invalid username:username should not start with number or special character\")\n",
        "  else:\n",
        "    print(\"username successfully registered\")\n",
        "    \n",
        "  #testing password format\n",
        "  flag1 = flag2 = flag3 = 0\n",
        "  if (len(password)<=5) or (len(password)>=16):\n",
        "    print(\"invalid password: password length must be greater than 5 and less than 16\")\n",
        "  elif any(c in special_characters for c in password):\n",
        "  \n",
        "      if any(chr.isdigit() for chr in password):\n",
        "        flag1 = 1\n",
        "      else:\n",
        "        print(\"invlaid password: number is required\")\n",
        "      if any(chr.isupper() for chr in password):\n",
        "        flag2 = 1\n",
        "      else:\n",
        "        print(\"Invlaid password: Uppercase alphabet is required\")\n",
        "      if any(chr.islower() for chr in password):\n",
        "        flag3 = 1\n",
        "      else:\n",
        "        print(\"Invlaid password: lowercase alphabet is required\")\n",
        "  else:\n",
        "    print(\"Invalid password: special character is required\")\n",
        "\n",
        "  if flag1 == flag2 == flag3 == 1:\n",
        "    print(\"Password saved successfully\")\n",
        "    Store_value(userName,password)\n",
        "\n",
        "def Store_value(un,pwd):\n",
        "  inp = un + \":\" + pwd\n",
        "  file3 = open(\"UserData.txt\",\"a\")\n",
        "  file3.write(\"\\n\")\n",
        "  file3.write(inp)\n",
        "  file3 = open(\"UserData.txt\",\"r\")\n",
        "  m = file3.read()\n",
        "  print(m)\n",
        "  print(\"credentials stored successfully\")\n",
        "  file3.close()\n",
        "\n",
        "def forgot_password(un,pwd):\n",
        "  print(\"password retrieval in process\")\n",
        "  file3 = open(\"UserData.txt\",\"r\")\n",
        "  index = 0\n",
        "  flag = 0\n",
        "  for line in file3:\n",
        "    index += 1\n",
        "    if un in line:\n",
        "      inp1 = line.split(\":\")\n",
        "      print(\"password retrieved:\",inp1[1])\n",
        "      flag = 1\n",
        "      break\n",
        "  if flag == 0:\n",
        "    print(\"Username not found, proceed to Registration\")\n",
        "  file3.close()\n",
        "\n",
        "def search_cred(un,pwd):\n",
        "  print(\"processing\")\n",
        "  file3 = open(\"UserData.txt\",\"r\")\n",
        "  index = 0\n",
        "  flag = 0\n",
        "  for line in file3:\n",
        "    index += 1\n",
        "    if un and pwd in line:\n",
        "      print(\"login successful\")\n",
        "      break\n",
        "    else:\n",
        "      print(\"username not found, please proceed to Registration\")\n",
        "\n",
        "      \n",
        "    \n",
        "x = input(\"Enter your username:\")  #username\n",
        "y = input(\"Enter your password:\")  #password\n",
        "func = input(\"Enter Register/Login/Forgot Password:\") \n",
        "\n",
        "if func == \"Register\":\n",
        "  Resgistration(x,y)   #accepts username and password, validates format. If correct then stores it in file\n",
        "elif func == \"Login\":\n",
        "  search_cred(x,y)   #searches the file to check if username and password are present\n",
        "elif func == \"Forgot Password\":\n",
        "  forgot_password(x,y) #searches username and retrieves password\n",
        "else:\n",
        "  print(\"Invalid selection\")\n"
      ]
    },
    {
      "cell_type": "code",
      "source": [
        ""
      ],
      "metadata": {
        "id": "fo35sjIPp9fG"
      },
      "execution_count": null,
      "outputs": []
    }
  ]
}